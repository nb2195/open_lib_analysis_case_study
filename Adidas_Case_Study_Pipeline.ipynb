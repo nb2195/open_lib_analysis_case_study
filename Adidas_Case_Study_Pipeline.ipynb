{
  "nbformat": 4,
  "nbformat_minor": 0,
  "metadata": {
    "colab": {
      "name": "Adidas_Case_Study_Pipeline.ipynb",
      "provenance": [],
      "collapsed_sections": [],
      "authorship_tag": "ABX9TyPd8opDyGA+dP+1yrdU0B7i",
      "include_colab_link": true
    },
    "kernelspec": {
      "name": "python3",
      "display_name": "Python 3"
    },
    "language_info": {
      "name": "python"
    }
  },
  "cells": [
    {
      "cell_type": "markdown",
      "metadata": {
        "id": "view-in-github",
        "colab_type": "text"
      },
      "source": [
        "<a href=\"https://colab.research.google.com/github/nb2195/open_lib_analysis_case_study/blob/main/Adidas_Case_Study_Pipeline.ipynb\" target=\"_parent\"><img src=\"https://colab.research.google.com/assets/colab-badge.svg\" alt=\"Open In Colab\"/></a>"
      ]
    },
    {
      "cell_type": "markdown",
      "source": [
        "###The steps below is optional. The code snippet installs pyspark module on the host and mounts and external storage location."
      ],
      "metadata": {
        "id": "vVSIj1c8ftGq"
      }
    },
    {
      "cell_type": "code",
      "execution_count": 1,
      "metadata": {
        "colab": {
          "base_uri": "https://localhost:8080/"
        },
        "id": "daa-SSNqCF_J",
        "outputId": "57d85933-b8a7-4a8b-912d-11be126162ac"
      },
      "outputs": [
        {
          "output_type": "stream",
          "name": "stdout",
          "text": [
            "Requirement already satisfied: pyspark in /usr/local/lib/python3.7/dist-packages (3.2.1)\n",
            "Requirement already satisfied: py4j==0.10.9.3 in /usr/local/lib/python3.7/dist-packages (from pyspark) (0.10.9.3)\n",
            "Drive already mounted at /content/drive; to attempt to forcibly remount, call drive.mount(\"/content/drive\", force_remount=True).\n"
          ]
        }
      ],
      "source": [
        "!pip install pyspark\n",
        "\n",
        "from google.colab import drive\n",
        "drive.mount('/content/drive')"
      ]
    },
    {
      "cell_type": "markdown",
      "source": [
        "##Importing necessary PySpark libraries"
      ],
      "metadata": {
        "id": "Gjf8PqypDWTZ"
      }
    },
    {
      "cell_type": "code",
      "source": [
        "from pyspark.sql import SparkSession\n",
        "from pyspark.sql import types as T\n",
        "import pyspark.sql.functions as F\n",
        "from pyspark.sql.functions import *\n",
        "from pyspark.sql.window import Window"
      ],
      "metadata": {
        "id": "D7kp3-raCOKX"
      },
      "execution_count": 2,
      "outputs": []
    },
    {
      "cell_type": "markdown",
      "source": [
        "###Initializing spark session"
      ],
      "metadata": {
        "id": "tETamrbcFdfh"
      }
    },
    {
      "cell_type": "code",
      "source": [
        "spark = SparkSession.builder\\\n",
        "                    .appName('Adidas')\\\n",
        "                    .getOrCreate()"
      ],
      "metadata": {
        "id": "kqMAuh2CCRcf"
      },
      "execution_count": 3,
      "outputs": []
    },
    {
      "cell_type": "code",
      "source": [
        "path = '/content/drive/MyDrive/Adidas/ol_cdump.json'\n",
        "\n",
        "inp = spark.read.option('encoding','utf-8')\\\n",
        "                .json(path)"
      ],
      "metadata": {
        "id": "qZjrtaOrEGTv"
      },
      "execution_count": 4,
      "outputs": []
    },
    {
      "cell_type": "code",
      "source": [
        "inp.printSchema()"
      ],
      "metadata": {
        "id": "2gDnOooxXv53",
        "colab": {
          "base_uri": "https://localhost:8080/"
        },
        "outputId": "52df84d6-cd00-4ba8-efb6-8d750a764b5d"
      },
      "execution_count": 5,
      "outputs": [
        {
          "output_type": "stream",
          "name": "stdout",
          "text": [
            "root\n",
            " |-- alternate_names: array (nullable = true)\n",
            " |    |-- element: string (containsNull = true)\n",
            " |-- authors: array (nullable = true)\n",
            " |    |-- element: struct (containsNull = true)\n",
            " |    |    |-- author: struct (nullable = true)\n",
            " |    |    |    |-- key: string (nullable = true)\n",
            " |    |    |-- key: string (nullable = true)\n",
            " |    |    |-- type: string (nullable = true)\n",
            " |-- bio: string (nullable = true)\n",
            " |-- birth_date: string (nullable = true)\n",
            " |-- by_statement: string (nullable = true)\n",
            " |-- contributions: array (nullable = true)\n",
            " |    |-- element: string (containsNull = true)\n",
            " |-- contributors: array (nullable = true)\n",
            " |    |-- element: struct (containsNull = true)\n",
            " |    |    |-- name: string (nullable = true)\n",
            " |    |    |-- role: string (nullable = true)\n",
            " |-- copyright_date: string (nullable = true)\n",
            " |-- covers: array (nullable = true)\n",
            " |    |-- element: long (containsNull = true)\n",
            " |-- created: struct (nullable = true)\n",
            " |    |-- type: string (nullable = true)\n",
            " |    |-- value: string (nullable = true)\n",
            " |-- death_date: string (nullable = true)\n",
            " |-- description: string (nullable = true)\n",
            " |-- dewey_decimal_class: array (nullable = true)\n",
            " |    |-- element: string (containsNull = true)\n",
            " |-- dewey_number: array (nullable = true)\n",
            " |    |-- element: string (containsNull = true)\n",
            " |-- download_url: array (nullable = true)\n",
            " |    |-- element: string (containsNull = true)\n",
            " |-- edition_name: string (nullable = true)\n",
            " |-- excerpts: array (nullable = true)\n",
            " |    |-- element: struct (containsNull = true)\n",
            " |    |    |-- excerpt: struct (nullable = true)\n",
            " |    |    |    |-- type: string (nullable = true)\n",
            " |    |    |    |-- value: string (nullable = true)\n",
            " |    |    |-- page: string (nullable = true)\n",
            " |-- first_publish_date: string (nullable = true)\n",
            " |-- first_sentence: string (nullable = true)\n",
            " |-- full_title: string (nullable = true)\n",
            " |-- fuller_name: string (nullable = true)\n",
            " |-- genres: array (nullable = true)\n",
            " |    |-- element: string (containsNull = true)\n",
            " |-- ia_box_id: array (nullable = true)\n",
            " |    |-- element: string (containsNull = true)\n",
            " |-- ia_loaded_id: string (nullable = true)\n",
            " |-- identifiers: struct (nullable = true)\n",
            " |    |-- amazon: array (nullable = true)\n",
            " |    |    |-- element: string (containsNull = true)\n",
            " |    |-- amazon_co_uk_asin: array (nullable = true)\n",
            " |    |    |-- element: string (containsNull = true)\n",
            " |    |-- goodreads: array (nullable = true)\n",
            " |    |    |-- element: string (containsNull = true)\n",
            " |    |-- librarything: array (nullable = true)\n",
            " |    |    |-- element: string (containsNull = true)\n",
            " |-- isbn_10: array (nullable = true)\n",
            " |    |-- element: string (containsNull = true)\n",
            " |-- isbn_13: array (nullable = true)\n",
            " |    |-- element: string (containsNull = true)\n",
            " |-- isbn_invalid: array (nullable = true)\n",
            " |    |-- element: string (containsNull = true)\n",
            " |-- isbn_odd_length: array (nullable = true)\n",
            " |    |-- element: string (containsNull = true)\n",
            " |-- key: string (nullable = true)\n",
            " |-- languages: array (nullable = true)\n",
            " |    |-- element: struct (containsNull = true)\n",
            " |    |    |-- key: string (nullable = true)\n",
            " |-- last_modified: struct (nullable = true)\n",
            " |    |-- type: string (nullable = true)\n",
            " |    |-- value: string (nullable = true)\n",
            " |-- latest_revision: long (nullable = true)\n",
            " |-- lc_classifications: array (nullable = true)\n",
            " |    |-- element: string (containsNull = true)\n",
            " |-- lccn: array (nullable = true)\n",
            " |    |-- element: string (containsNull = true)\n",
            " |-- links: array (nullable = true)\n",
            " |    |-- element: struct (containsNull = true)\n",
            " |    |    |-- title: string (nullable = true)\n",
            " |    |    |-- type: struct (nullable = true)\n",
            " |    |    |    |-- key: string (nullable = true)\n",
            " |    |    |-- url: string (nullable = true)\n",
            " |-- location: string (nullable = true)\n",
            " |-- name: string (nullable = true)\n",
            " |-- notes: string (nullable = true)\n",
            " |-- number_of_pages: long (nullable = true)\n",
            " |-- ocaid: string (nullable = true)\n",
            " |-- oclc_number: array (nullable = true)\n",
            " |    |-- element: string (containsNull = true)\n",
            " |-- oclc_numbers: array (nullable = true)\n",
            " |    |-- element: string (containsNull = true)\n",
            " |-- other_titles: array (nullable = true)\n",
            " |    |-- element: string (containsNull = true)\n",
            " |-- pagination: string (nullable = true)\n",
            " |-- personal_name: string (nullable = true)\n",
            " |-- photos: array (nullable = true)\n",
            " |    |-- element: long (containsNull = true)\n",
            " |-- physical_dimensions: string (nullable = true)\n",
            " |-- physical_format: string (nullable = true)\n",
            " |-- publish_country: string (nullable = true)\n",
            " |-- publish_date: string (nullable = true)\n",
            " |-- publish_places: array (nullable = true)\n",
            " |    |-- element: string (containsNull = true)\n",
            " |-- publishers: array (nullable = true)\n",
            " |    |-- element: string (containsNull = true)\n",
            " |-- purchase_url: array (nullable = true)\n",
            " |    |-- element: string (containsNull = true)\n",
            " |-- revision: long (nullable = true)\n",
            " |-- series: array (nullable = true)\n",
            " |    |-- element: string (containsNull = true)\n",
            " |-- source_records: array (nullable = true)\n",
            " |    |-- element: string (containsNull = true)\n",
            " |-- subject_people: array (nullable = true)\n",
            " |    |-- element: string (containsNull = true)\n",
            " |-- subject_place: array (nullable = true)\n",
            " |    |-- element: string (containsNull = true)\n",
            " |-- subject_places: array (nullable = true)\n",
            " |    |-- element: string (containsNull = true)\n",
            " |-- subject_time: array (nullable = true)\n",
            " |    |-- element: string (containsNull = true)\n",
            " |-- subject_times: array (nullable = true)\n",
            " |    |-- element: string (containsNull = true)\n",
            " |-- subjects: array (nullable = true)\n",
            " |    |-- element: string (containsNull = true)\n",
            " |-- subtitle: string (nullable = true)\n",
            " |-- table_of_contents: array (nullable = true)\n",
            " |    |-- element: struct (containsNull = true)\n",
            " |    |    |-- class: string (nullable = true)\n",
            " |    |    |-- label: string (nullable = true)\n",
            " |    |    |-- level: long (nullable = true)\n",
            " |    |    |-- pagenum: string (nullable = true)\n",
            " |    |    |-- title: string (nullable = true)\n",
            " |    |    |-- type: string (nullable = true)\n",
            " |    |    |-- value: string (nullable = true)\n",
            " |-- title: string (nullable = true)\n",
            " |-- title_prefix: string (nullable = true)\n",
            " |-- type: struct (nullable = true)\n",
            " |    |-- key: string (nullable = true)\n",
            " |-- uri_descriptions: array (nullable = true)\n",
            " |    |-- element: string (containsNull = true)\n",
            " |-- uris: array (nullable = true)\n",
            " |    |-- element: string (containsNull = true)\n",
            " |-- url: array (nullable = true)\n",
            " |    |-- element: string (containsNull = true)\n",
            " |-- website: string (nullable = true)\n",
            " |-- weight: string (nullable = true)\n",
            " |-- work_title: array (nullable = true)\n",
            " |    |-- element: string (containsNull = true)\n",
            " |-- work_titles: array (nullable = true)\n",
            " |    |-- element: string (containsNull = true)\n",
            " |-- works: array (nullable = true)\n",
            " |    |-- element: struct (containsNull = true)\n",
            " |    |    |-- key: string (nullable = true)\n",
            "\n"
          ]
        }
      ]
    },
    {
      "cell_type": "markdown",
      "source": [
        "###The flatten method resolves complex data types such as ArrayType and StructType in order to un-nest the columns and 'flatten' the JSON file. This enables querying on the dataset for insight generation."
      ],
      "metadata": {
        "id": "GqUgN3SwDpJL"
      }
    },
    {
      "cell_type": "code",
      "source": [
        "def flatten(df):\n",
        "    complex_fields = dict([\n",
        "        (field.name, field.dataType) \n",
        "        for field in df.schema.fields \n",
        "        if isinstance(field.dataType, T.ArrayType) or isinstance(field.dataType, T.StructType)\n",
        "    ])\n",
        "    \n",
        "    # print('complex_fields dict',complex_fields)\n",
        "\n",
        "    qualify = list(complex_fields.keys())[0] + \"_\"\n",
        "\n",
        "    while len(complex_fields) != 0:\n",
        "        col_name = list(complex_fields.keys())[0]\n",
        "        \n",
        "        if isinstance(complex_fields[col_name], T.StructType):\n",
        "            expanded = [F.col(col_name + '.' + k).alias(col_name + '_' + k) \n",
        "                        for k in [ n.name for n in  complex_fields[col_name]]\n",
        "                       ]\n",
        "            \n",
        "            df = df.select(\"*\", *expanded).drop(col_name)\n",
        "    \n",
        "        elif isinstance(complex_fields[col_name], T.ArrayType): \n",
        "            df = df.withColumn(col_name, F.explode_outer(col_name))\n",
        "      \n",
        "        complex_fields = dict([\n",
        "            (field.name, field.dataType)\n",
        "            for field in df.schema.fields\n",
        "            if isinstance(field.dataType, T.ArrayType) or isinstance(field.dataType, T.StructType)\n",
        "        ])\n",
        "        \n",
        "        \n",
        "    for df_col_name in df.columns:\n",
        "        df = df.withColumnRenamed(df_col_name, df_col_name.replace(qualify, \"\"))\n",
        "\n",
        "    return df"
      ],
      "metadata": {
        "id": "oiJ_oa3SDDUY"
      },
      "execution_count": 6,
      "outputs": []
    },
    {
      "cell_type": "code",
      "source": [
        "flattened_df = flatten(inp)\n",
        "flattened_df.printSchema()"
      ],
      "metadata": {
        "colab": {
          "base_uri": "https://localhost:8080/"
        },
        "id": "DhxHSbsCEMyU",
        "outputId": "d7edcc48-70c5-46e7-c5cf-8795ed519553"
      },
      "execution_count": 7,
      "outputs": [
        {
          "output_type": "stream",
          "name": "stdout",
          "text": [
            "root\n",
            " |-- alternate_names: string (nullable = true)\n",
            " |-- bio: string (nullable = true)\n",
            " |-- birth_date: string (nullable = true)\n",
            " |-- by_statement: string (nullable = true)\n",
            " |-- contributions: string (nullable = true)\n",
            " |-- copyright_date: string (nullable = true)\n",
            " |-- covers: long (nullable = true)\n",
            " |-- death_date: string (nullable = true)\n",
            " |-- description: string (nullable = true)\n",
            " |-- dewey_decimal_class: string (nullable = true)\n",
            " |-- dewey_number: string (nullable = true)\n",
            " |-- download_url: string (nullable = true)\n",
            " |-- edition_name: string (nullable = true)\n",
            " |-- first_publish_date: string (nullable = true)\n",
            " |-- first_sentence: string (nullable = true)\n",
            " |-- full_title: string (nullable = true)\n",
            " |-- fuller_name: string (nullable = true)\n",
            " |-- genres: string (nullable = true)\n",
            " |-- ia_box_id: string (nullable = true)\n",
            " |-- ia_loaded_id: string (nullable = true)\n",
            " |-- isbn_10: string (nullable = true)\n",
            " |-- isbn_13: string (nullable = true)\n",
            " |-- isbn_invalid: string (nullable = true)\n",
            " |-- isbn_odd_length: string (nullable = true)\n",
            " |-- key: string (nullable = true)\n",
            " |-- latest_revision: long (nullable = true)\n",
            " |-- lc_classifications: string (nullable = true)\n",
            " |-- lccn: string (nullable = true)\n",
            " |-- location: string (nullable = true)\n",
            " |-- name: string (nullable = true)\n",
            " |-- notes: string (nullable = true)\n",
            " |-- number_of_pages: long (nullable = true)\n",
            " |-- ocaid: string (nullable = true)\n",
            " |-- oclc_number: string (nullable = true)\n",
            " |-- oclc_numbers: string (nullable = true)\n",
            " |-- other_titles: string (nullable = true)\n",
            " |-- pagination: string (nullable = true)\n",
            " |-- personal_name: string (nullable = true)\n",
            " |-- photos: long (nullable = true)\n",
            " |-- physical_dimensions: string (nullable = true)\n",
            " |-- physical_format: string (nullable = true)\n",
            " |-- publish_country: string (nullable = true)\n",
            " |-- publish_date: string (nullable = true)\n",
            " |-- publish_places: string (nullable = true)\n",
            " |-- publishers: string (nullable = true)\n",
            " |-- purchase_url: string (nullable = true)\n",
            " |-- revision: long (nullable = true)\n",
            " |-- series: string (nullable = true)\n",
            " |-- source_records: string (nullable = true)\n",
            " |-- subject_people: string (nullable = true)\n",
            " |-- subject_place: string (nullable = true)\n",
            " |-- subject_places: string (nullable = true)\n",
            " |-- subject_time: string (nullable = true)\n",
            " |-- subject_times: string (nullable = true)\n",
            " |-- subjects: string (nullable = true)\n",
            " |-- subtitle: string (nullable = true)\n",
            " |-- title: string (nullable = true)\n",
            " |-- title_prefix: string (nullable = true)\n",
            " |-- uri_descriptions: string (nullable = true)\n",
            " |-- uris: string (nullable = true)\n",
            " |-- url: string (nullable = true)\n",
            " |-- website: string (nullable = true)\n",
            " |-- weight: string (nullable = true)\n",
            " |-- work_title: string (nullable = true)\n",
            " |-- work_titles: string (nullable = true)\n",
            " |-- authors_key: string (nullable = true)\n",
            " |-- authors_type: string (nullable = true)\n",
            " |-- contributors_name: string (nullable = true)\n",
            " |-- contributors_role: string (nullable = true)\n",
            " |-- created_type: string (nullable = true)\n",
            " |-- created_value: string (nullable = true)\n",
            " |-- excerpts_page: string (nullable = true)\n",
            " |-- identifiers_amazon: string (nullable = true)\n",
            " |-- identifiers_amazon_co_uk_asin: string (nullable = true)\n",
            " |-- identifiers_goodreads: string (nullable = true)\n",
            " |-- identifiers_librarything: string (nullable = true)\n",
            " |-- languages_key: string (nullable = true)\n",
            " |-- last_modified_type: string (nullable = true)\n",
            " |-- last_modified_value: string (nullable = true)\n",
            " |-- links_title: string (nullable = true)\n",
            " |-- links_url: string (nullable = true)\n",
            " |-- table_of_contents_class: string (nullable = true)\n",
            " |-- table_of_contents_label: string (nullable = true)\n",
            " |-- table_of_contents_level: long (nullable = true)\n",
            " |-- table_of_contents_pagenum: string (nullable = true)\n",
            " |-- table_of_contents_title: string (nullable = true)\n",
            " |-- table_of_contents_type: string (nullable = true)\n",
            " |-- table_of_contents_value: string (nullable = true)\n",
            " |-- type_key: string (nullable = true)\n",
            " |-- works_key: string (nullable = true)\n",
            " |-- authors_author_key: string (nullable = true)\n",
            " |-- excerpts_excerpt_type: string (nullable = true)\n",
            " |-- excerpts_excerpt_value: string (nullable = true)\n",
            " |-- links_type_key: string (nullable = true)\n",
            "\n"
          ]
        }
      ]
    },
    {
      "cell_type": "markdown",
      "source": [
        "##Cleaning the dataset by appying necessary filters - \n",
        "1. Title should not be null\n",
        "2. The Number of pages should be greater than 20\n",
        "3. The publish date should be later than 1950\n",
        "\n",
        "Fetching records which satisfy the above criteria"
      ],
      "metadata": {
        "id": "_FarEWKZGkaf"
      }
    },
    {
      "cell_type": "code",
      "source": [
        "filtered_inp = flattened_df.where('title IS NOT NULL')\\\n",
        "                           .where('number_of_pages > 20')\\\n",
        "                           .where('publish_date > 1950')"
      ],
      "metadata": {
        "id": "0voQCvOCafqb"
      },
      "execution_count": 8,
      "outputs": []
    },
    {
      "cell_type": "markdown",
      "source": [
        "## Ques 1: Select all \"Harry Potter\" books\n",
        "\n",
        "The code below will fetch records where Harry Potter is properly spelled in the title column. However, we'll need to perform spell checks to make sure we are capturing records where 'Harry Potter' is incorrectly spelled. This can be acieved through Autocorrect Python package to look for strings which resemble 'Harry Potter'."
      ],
      "metadata": {
        "id": "uPNKdTGwFyga"
      }
    },
    {
      "cell_type": "code",
      "source": [
        "filtered_inp.where('upper(title) like \"%HARRY%POTTER%\" OR upper(description) like \"%HARRY%POTTER%\"')\\\n",
        "            .show(truncate=False)"
      ],
      "metadata": {
        "colab": {
          "base_uri": "https://localhost:8080/"
        },
        "id": "w8Hzqh1XlbPF",
        "outputId": "da22cd0d-6f1d-49b7-ff50-d69691ef148a"
      },
      "execution_count": 9,
      "outputs": [
        {
          "output_type": "stream",
          "name": "stdout",
          "text": [
            "+---------------+----+----------+-----------------------------------------------+-------------+--------------+------+----------+----------------------------------------------------------------------------------------------------------------------------------------------------------------------------------------------------+-------------------+------------+------------+------------+------------------+--------------+----------+-----------+-----------------+---------+------------+----------+-------+------------+---------------+------------------+---------------+------------------+----+--------+----+----------------------------------------------------------------------------------------------------------------------------------------+---------------+-----+-----------+------------+--------------------------------------------+----------+-------------+------+-------------------+---------------+---------------+------------+--------------+---------------------+------------+--------+-----------------------+--------------+--------------+-------------+--------------+------------+-------------+--------------------------------------------------------------------------------+--------+----------------------------------------+------------+----------------+----+----+-------+------+----------+-----------------------------------------+-------------------+------------+-----------------+-----------------+--------------+--------------------------+-------------+------------------+-----------------------------+---------------------+------------------------+--------------+------------------+--------------------------+-----------+---------+-----------------------+-----------------------+-----------------------+-------------------------+-----------------------+----------------------+-----------------------+-------------+-----------------+------------------+---------------------+----------------------+--------------+\n",
            "|alternate_names|bio |birth_date|by_statement                                   |contributions|copyright_date|covers|death_date|description                                                                                                                                                                                         |dewey_decimal_class|dewey_number|download_url|edition_name|first_publish_date|first_sentence|full_title|fuller_name|genres           |ia_box_id|ia_loaded_id|isbn_10   |isbn_13|isbn_invalid|isbn_odd_length|key               |latest_revision|lc_classifications|lccn|location|name|notes                                                                                                                                   |number_of_pages|ocaid|oclc_number|oclc_numbers|other_titles                                |pagination|personal_name|photos|physical_dimensions|physical_format|publish_country|publish_date|publish_places|publishers           |purchase_url|revision|series                 |source_records|subject_people|subject_place|subject_places|subject_time|subject_times|subjects                                                                        |subtitle|title                                   |title_prefix|uri_descriptions|uris|url |website|weight|work_title|work_titles                              |authors_key        |authors_type|contributors_name|contributors_role|created_type  |created_value             |excerpts_page|identifiers_amazon|identifiers_amazon_co_uk_asin|identifiers_goodreads|identifiers_librarything|languages_key |last_modified_type|last_modified_value       |links_title|links_url|table_of_contents_class|table_of_contents_label|table_of_contents_level|table_of_contents_pagenum|table_of_contents_title|table_of_contents_type|table_of_contents_value|type_key     |works_key        |authors_author_key|excerpts_excerpt_type|excerpts_excerpt_value|links_type_key|\n",
            "+---------------+----+----------+-----------------------------------------------+-------------+--------------+------+----------+----------------------------------------------------------------------------------------------------------------------------------------------------------------------------------------------------+-------------------+------------+------------+------------+------------------+--------------+----------+-----------+-----------------+---------+------------+----------+-------+------------+---------------+------------------+---------------+------------------+----+--------+----+----------------------------------------------------------------------------------------------------------------------------------------+---------------+-----+-----------+------------+--------------------------------------------+----------+-------------+------+-------------------+---------------+---------------+------------+--------------+---------------------+------------+--------+-----------------------+--------------+--------------+-------------+--------------+------------+-------------+--------------------------------------------------------------------------------+--------+----------------------------------------+------------+----------------+----+----+-------+------+----------+-----------------------------------------+-------------------+------------+-----------------+-----------------+--------------+--------------------------+-------------+------------------+-----------------------------+---------------------+------------------------+--------------+------------------+--------------------------+-----------+---------+-----------------------+-----------------------+-----------------------+-------------------------+-----------------------+----------------------+-----------------------+-------------+-----------------+------------------+---------------------+----------------------+--------------+\n",
            "|null           |null|null      |J. K. Rowling.                                 |null         |null          |null  |null      |{\"type\":\"/type/text\",\"value\":\"Rescued from the outrageous neglect of his aunt and uncle, a young boy with a great destiny proves his worth while attending Hogwarts School for Wizards and Witches\"}|null               |null        |null        |null        |null              |null          |null      |null       |Juvenile fiction |null     |null        |0747542988|null   |null        |null           |/books/OL22856696M|2              |null              |null|[\"NBuC\"]|null|{\"type\":\"/type/text\",\"value\":\"Sequel: Harry Potter and the Chamber of Secrets\"}                                                         |223            |null |41534303   |null        |null                                        |223 p. ;  |null         |null  |null               |null           |enk            |1998        |London        |Bloomsbury Publishing|null        |2       |null                   |null          |null          |null         |null          |null        |null         |Potter, Harry (Fictitious character) -- Juvenile fiction                        |null    |Harry Potter and the philosopher's stone|null        |null            |null|null|null   |null  |null      |null                                     |/authors/OL3218098A|null        |null             |null             |/type/datetime|2009-01-07T23:46:06.178276|null         |null              |null                         |null                 |null                    |/languages/eng|/type/datetime    |2009-12-15T08:07:27.222056|null       |null     |null                   |null                   |null                   |null                     |null                   |null                  |null                   |/type/edition|/works/OL9134393W|null              |null                 |null                  |null          |\n",
            "|null           |null|null      |J. K. Rowling.                                 |null         |null          |null  |null      |{\"type\":\"/type/text\",\"value\":\"Rescued from the outrageous neglect of his aunt and uncle, a young boy with a great destiny proves his worth while attending Hogwarts School for Wizards and Witches\"}|null               |null        |null        |null        |null              |null          |null      |null       |Juvenile fiction |null     |null        |0747542988|null   |null        |null           |/books/OL22856696M|2              |null              |null|[\"NBuC\"]|null|{\"type\":\"/type/text\",\"value\":\"Sequel: Harry Potter and the Chamber of Secrets\"}                                                         |223            |null |41534303   |null        |null                                        |223 p. ;  |null         |null  |null               |null           |enk            |1998        |London        |Bloomsbury Publishing|null        |2       |null                   |null          |null          |null         |null          |null        |null         |Wizards -- Juvenile fiction                                                     |null    |Harry Potter and the philosopher's stone|null        |null            |null|null|null   |null  |null      |null                                     |/authors/OL3218098A|null        |null             |null             |/type/datetime|2009-01-07T23:46:06.178276|null         |null              |null                         |null                 |null                    |/languages/eng|/type/datetime    |2009-12-15T08:07:27.222056|null       |null     |null                   |null                   |null                   |null                     |null                   |null                  |null                   |/type/edition|/works/OL9134393W|null              |null                 |null                  |null          |\n",
            "|null           |null|null      |J. K. Rowling.                                 |null         |null          |null  |null      |{\"type\":\"/type/text\",\"value\":\"Rescued from the outrageous neglect of his aunt and uncle, a young boy with a great destiny proves his worth while attending Hogwarts School for Wizards and Witches\"}|null               |null        |null        |null        |null              |null          |null      |null       |Juvenile fiction |null     |null        |0747542988|null   |null        |null           |/books/OL22856696M|2              |null              |null|[\"NBuC\"]|null|{\"type\":\"/type/text\",\"value\":\"Sequel: Harry Potter and the Chamber of Secrets\"}                                                         |223            |null |41534303   |null        |null                                        |223 p. ;  |null         |null  |null               |null           |enk            |1998        |London        |Bloomsbury Publishing|null        |2       |null                   |null          |null          |null         |null          |null        |null         |Magic -- Juvenile fiction                                                       |null    |Harry Potter and the philosopher's stone|null        |null            |null|null|null   |null  |null      |null                                     |/authors/OL3218098A|null        |null             |null             |/type/datetime|2009-01-07T23:46:06.178276|null         |null              |null                         |null                 |null                    |/languages/eng|/type/datetime    |2009-12-15T08:07:27.222056|null       |null     |null                   |null                   |null                   |null                     |null                   |null                  |null                   |/type/edition|/works/OL9134393W|null              |null                 |null                  |null          |\n",
            "|null           |null|null      |J. K. Rowling.                                 |null         |null          |null  |null      |{\"type\":\"/type/text\",\"value\":\"Rescued from the outrageous neglect of his aunt and uncle, a young boy with a great destiny proves his worth while attending Hogwarts School for Wizards and Witches\"}|null               |null        |null        |null        |null              |null          |null      |null       |Juvenile fiction |null     |null        |0747542988|null   |null        |null           |/books/OL22856696M|2              |null              |null|[\"NBuC\"]|null|{\"type\":\"/type/text\",\"value\":\"Sequel: Harry Potter and the Chamber of Secrets\"}                                                         |223            |null |41534303   |null        |null                                        |223 p. ;  |null         |null  |null               |null           |enk            |1998        |London        |Bloomsbury Publishing|null        |2       |null                   |null          |null          |null         |null          |null        |null         |Hogwarts School of Witchcraft and Wizardry (Imaginary place) -- Juvenile fiction|null    |Harry Potter and the philosopher's stone|null        |null            |null|null|null   |null  |null      |null                                     |/authors/OL3218098A|null        |null             |null             |/type/datetime|2009-01-07T23:46:06.178276|null         |null              |null                         |null                 |null                    |/languages/eng|/type/datetime    |2009-12-15T08:07:27.222056|null       |null     |null                   |null                   |null                   |null                     |null                   |null                  |null                   |/type/edition|/works/OL9134393W|null              |null                 |null                  |null          |\n",
            "|null           |null|null      |J. K. Rowling.                                 |null         |null          |null  |null      |{\"type\":\"/type/text\",\"value\":\"Rescued from the outrageous neglect of his aunt and uncle, a young boy with a great destiny proves his worth while attending Hogwarts School for Wizards and Witches\"}|null               |null        |null        |null        |null              |null          |null      |null       |Juvenile fiction |null     |null        |0747542988|null   |null        |null           |/books/OL22856696M|2              |null              |null|[\"NBuC\"]|null|{\"type\":\"/type/text\",\"value\":\"Sequel: Harry Potter and the Chamber of Secrets\"}                                                         |223            |null |41534303   |null        |null                                        |223 p. ;  |null         |null  |null               |null           |enk            |1998        |London        |Bloomsbury Publishing|null        |2       |null                   |null          |null          |null         |null          |null        |null         |Schools -- Juvenile fiction                                                     |null    |Harry Potter and the philosopher's stone|null        |null            |null|null|null   |null  |null      |null                                     |/authors/OL3218098A|null        |null             |null             |/type/datetime|2009-01-07T23:46:06.178276|null         |null              |null                         |null                 |null                    |/languages/eng|/type/datetime    |2009-12-15T08:07:27.222056|null       |null     |null                   |null                   |null                   |null                     |null                   |null                  |null                   |/type/edition|/works/OL9134393W|null              |null                 |null                  |null          |\n",
            "|null           |null|null      |J. K. Rowling.                                 |null         |null          |null  |null      |{\"type\":\"/type/text\",\"value\":\"Rescued from the outrageous neglect of his aunt and uncle, a young boy with a great destiny proves his worth while attending Hogwarts School for Wizards and Witches\"}|null               |null        |null        |null        |null              |null          |null      |null       |Juvenile fiction |null     |null        |0747542988|null   |null        |null           |/books/OL22856696M|2              |null              |null|[\"NBuC\"]|null|{\"type\":\"/type/text\",\"value\":\"Sequel: Harry Potter and the Chamber of Secrets\"}                                                         |223            |null |41534303   |null        |null                                        |223 p. ;  |null         |null  |null               |null           |enk            |1998        |London        |Bloomsbury Publishing|null        |2       |null                   |null          |null          |null         |null          |null        |null         |England -- Juvenile fiction.                                                    |null    |Harry Potter and the philosopher's stone|null        |null            |null|null|null   |null  |null      |null                                     |/authors/OL3218098A|null        |null             |null             |/type/datetime|2009-01-07T23:46:06.178276|null         |null              |null                         |null                 |null                    |/languages/eng|/type/datetime    |2009-12-15T08:07:27.222056|null       |null     |null                   |null                   |null                   |null                     |null                   |null                  |null                   |/type/edition|/works/OL9134393W|null              |null                 |null                  |null          |\n",
            "|null           |null|null      |J. K. Rowling.                                 |null         |null          |null  |null      |{\"type\":\"/type/text\",\"value\":\"Rescued from the outrageous neglect of his aunt and uncle, a young boy with a great destiny proves his worth while attending Hogwarts School for Wizards and Witches\"}|null               |null        |null        |null        |null              |null          |null      |null       |Juvenile fiction.|null     |null        |0747542988|null   |null        |null           |/books/OL22856696M|2              |null              |null|[\"NBuC\"]|null|{\"type\":\"/type/text\",\"value\":\"Sequel: Harry Potter and the Chamber of Secrets\"}                                                         |223            |null |41534303   |null        |null                                        |223 p. ;  |null         |null  |null               |null           |enk            |1998        |London        |Bloomsbury Publishing|null        |2       |null                   |null          |null          |null         |null          |null        |null         |Potter, Harry (Fictitious character) -- Juvenile fiction                        |null    |Harry Potter and the philosopher's stone|null        |null            |null|null|null   |null  |null      |null                                     |/authors/OL3218098A|null        |null             |null             |/type/datetime|2009-01-07T23:46:06.178276|null         |null              |null                         |null                 |null                    |/languages/eng|/type/datetime    |2009-12-15T08:07:27.222056|null       |null     |null                   |null                   |null                   |null                     |null                   |null                  |null                   |/type/edition|/works/OL9134393W|null              |null                 |null                  |null          |\n",
            "|null           |null|null      |J. K. Rowling.                                 |null         |null          |null  |null      |{\"type\":\"/type/text\",\"value\":\"Rescued from the outrageous neglect of his aunt and uncle, a young boy with a great destiny proves his worth while attending Hogwarts School for Wizards and Witches\"}|null               |null        |null        |null        |null              |null          |null      |null       |Juvenile fiction.|null     |null        |0747542988|null   |null        |null           |/books/OL22856696M|2              |null              |null|[\"NBuC\"]|null|{\"type\":\"/type/text\",\"value\":\"Sequel: Harry Potter and the Chamber of Secrets\"}                                                         |223            |null |41534303   |null        |null                                        |223 p. ;  |null         |null  |null               |null           |enk            |1998        |London        |Bloomsbury Publishing|null        |2       |null                   |null          |null          |null         |null          |null        |null         |Wizards -- Juvenile fiction                                                     |null    |Harry Potter and the philosopher's stone|null        |null            |null|null|null   |null  |null      |null                                     |/authors/OL3218098A|null        |null             |null             |/type/datetime|2009-01-07T23:46:06.178276|null         |null              |null                         |null                 |null                    |/languages/eng|/type/datetime    |2009-12-15T08:07:27.222056|null       |null     |null                   |null                   |null                   |null                     |null                   |null                  |null                   |/type/edition|/works/OL9134393W|null              |null                 |null                  |null          |\n",
            "|null           |null|null      |J. K. Rowling.                                 |null         |null          |null  |null      |{\"type\":\"/type/text\",\"value\":\"Rescued from the outrageous neglect of his aunt and uncle, a young boy with a great destiny proves his worth while attending Hogwarts School for Wizards and Witches\"}|null               |null        |null        |null        |null              |null          |null      |null       |Juvenile fiction.|null     |null        |0747542988|null   |null        |null           |/books/OL22856696M|2              |null              |null|[\"NBuC\"]|null|{\"type\":\"/type/text\",\"value\":\"Sequel: Harry Potter and the Chamber of Secrets\"}                                                         |223            |null |41534303   |null        |null                                        |223 p. ;  |null         |null  |null               |null           |enk            |1998        |London        |Bloomsbury Publishing|null        |2       |null                   |null          |null          |null         |null          |null        |null         |Magic -- Juvenile fiction                                                       |null    |Harry Potter and the philosopher's stone|null        |null            |null|null|null   |null  |null      |null                                     |/authors/OL3218098A|null        |null             |null             |/type/datetime|2009-01-07T23:46:06.178276|null         |null              |null                         |null                 |null                    |/languages/eng|/type/datetime    |2009-12-15T08:07:27.222056|null       |null     |null                   |null                   |null                   |null                     |null                   |null                  |null                   |/type/edition|/works/OL9134393W|null              |null                 |null                  |null          |\n",
            "|null           |null|null      |J. K. Rowling.                                 |null         |null          |null  |null      |{\"type\":\"/type/text\",\"value\":\"Rescued from the outrageous neglect of his aunt and uncle, a young boy with a great destiny proves his worth while attending Hogwarts School for Wizards and Witches\"}|null               |null        |null        |null        |null              |null          |null      |null       |Juvenile fiction.|null     |null        |0747542988|null   |null        |null           |/books/OL22856696M|2              |null              |null|[\"NBuC\"]|null|{\"type\":\"/type/text\",\"value\":\"Sequel: Harry Potter and the Chamber of Secrets\"}                                                         |223            |null |41534303   |null        |null                                        |223 p. ;  |null         |null  |null               |null           |enk            |1998        |London        |Bloomsbury Publishing|null        |2       |null                   |null          |null          |null         |null          |null        |null         |Hogwarts School of Witchcraft and Wizardry (Imaginary place) -- Juvenile fiction|null    |Harry Potter and the philosopher's stone|null        |null            |null|null|null   |null  |null      |null                                     |/authors/OL3218098A|null        |null             |null             |/type/datetime|2009-01-07T23:46:06.178276|null         |null              |null                         |null                 |null                    |/languages/eng|/type/datetime    |2009-12-15T08:07:27.222056|null       |null     |null                   |null                   |null                   |null                     |null                   |null                  |null                   |/type/edition|/works/OL9134393W|null              |null                 |null                  |null          |\n",
            "|null           |null|null      |J. K. Rowling.                                 |null         |null          |null  |null      |{\"type\":\"/type/text\",\"value\":\"Rescued from the outrageous neglect of his aunt and uncle, a young boy with a great destiny proves his worth while attending Hogwarts School for Wizards and Witches\"}|null               |null        |null        |null        |null              |null          |null      |null       |Juvenile fiction.|null     |null        |0747542988|null   |null        |null           |/books/OL22856696M|2              |null              |null|[\"NBuC\"]|null|{\"type\":\"/type/text\",\"value\":\"Sequel: Harry Potter and the Chamber of Secrets\"}                                                         |223            |null |41534303   |null        |null                                        |223 p. ;  |null         |null  |null               |null           |enk            |1998        |London        |Bloomsbury Publishing|null        |2       |null                   |null          |null          |null         |null          |null        |null         |Schools -- Juvenile fiction                                                     |null    |Harry Potter and the philosopher's stone|null        |null            |null|null|null   |null  |null      |null                                     |/authors/OL3218098A|null        |null             |null             |/type/datetime|2009-01-07T23:46:06.178276|null         |null              |null                         |null                 |null                    |/languages/eng|/type/datetime    |2009-12-15T08:07:27.222056|null       |null     |null                   |null                   |null                   |null                     |null                   |null                  |null                   |/type/edition|/works/OL9134393W|null              |null                 |null                  |null          |\n",
            "|null           |null|null      |J. K. Rowling.                                 |null         |null          |null  |null      |{\"type\":\"/type/text\",\"value\":\"Rescued from the outrageous neglect of his aunt and uncle, a young boy with a great destiny proves his worth while attending Hogwarts School for Wizards and Witches\"}|null               |null        |null        |null        |null              |null          |null      |null       |Juvenile fiction.|null     |null        |0747542988|null   |null        |null           |/books/OL22856696M|2              |null              |null|[\"NBuC\"]|null|{\"type\":\"/type/text\",\"value\":\"Sequel: Harry Potter and the Chamber of Secrets\"}                                                         |223            |null |41534303   |null        |null                                        |223 p. ;  |null         |null  |null               |null           |enk            |1998        |London        |Bloomsbury Publishing|null        |2       |null                   |null          |null          |null         |null          |null        |null         |England -- Juvenile fiction.                                                    |null    |Harry Potter and the philosopher's stone|null        |null            |null|null|null   |null  |null      |null                                     |/authors/OL3218098A|null        |null             |null             |/type/datetime|2009-01-07T23:46:06.178276|null         |null              |null                         |null                 |null                    |/languages/eng|/type/datetime    |2009-12-15T08:07:27.222056|null       |null     |null                   |null                   |null                   |null                     |null                   |null                  |null                   |/type/edition|/works/OL9134393W|null              |null                 |null                  |null          |\n",
            "|null           |null|null      |J.K. Rowling ; [traducción, Alicia Dellepiane].|null         |null          |null  |null      |{\"type\":\"/type/text\",\"value\":\"Rescued from the outrageous neglect of his aunt and uncle, a young boy with a great destiny proves his worth while attending Hogwarts School for Wizards and Witches\"}|null               |null        |null        |1a ed       |null              |null          |null      |null       |Juvenile fiction |null     |null        |8478885544|null   |null        |null           |/books/OL22858290M|2              |null              |null|[\"NBuC\"]|null|{\"type\":\"/type/text\",\"value\":\"Translation of: Harry Potter and the philosopher's stone\\n\\nCecilia Bard Multicultural Library for Peace\"}|254            |null |46972597   |null        |Cecilia Bard Multicultural Library for Peace|254 p. ;  |null         |null  |null               |null           |sp             |2000        |Barcelona     |Emecé Editores       |null        |2       |Serie Harry Potter -- 1|null          |null          |null         |null          |null        |null         |Potter, Harry (Fictitious character) -- Juvenile fiction                        |null    |Harry Potter y la piedra filosofal      |null        |null            |null|null|null   |null  |null      |Harry Potter and the philosopher's stone.|/authors/OL3218098A|null        |null             |null             |/type/datetime|2009-01-08T01:49:06.908292|null         |null              |null                         |null                 |null                    |/languages/spa|/type/datetime    |2009-12-15T08:07:28.908422|null       |null     |null                   |null                   |null                   |null                     |null                   |null                  |null                   |/type/edition|/works/OL9134393W|null              |null                 |null                  |null          |\n",
            "|null           |null|null      |J.K. Rowling ; [traducción, Alicia Dellepiane].|null         |null          |null  |null      |{\"type\":\"/type/text\",\"value\":\"Rescued from the outrageous neglect of his aunt and uncle, a young boy with a great destiny proves his worth while attending Hogwarts School for Wizards and Witches\"}|null               |null        |null        |1a ed       |null              |null          |null      |null       |Juvenile fiction |null     |null        |8478885544|null   |null        |null           |/books/OL22858290M|2              |null              |null|[\"NBuC\"]|null|{\"type\":\"/type/text\",\"value\":\"Translation of: Harry Potter and the philosopher's stone\\n\\nCecilia Bard Multicultural Library for Peace\"}|254            |null |46972597   |null        |Cecilia Bard Multicultural Library for Peace|254 p. ;  |null         |null  |null               |null           |sp             |2000        |Barcelona     |Emecé Editores       |null        |2       |Serie Harry Potter -- 1|null          |null          |null         |null          |null        |null         |Wizards -- Juvenile fiction                                                     |null    |Harry Potter y la piedra filosofal      |null        |null            |null|null|null   |null  |null      |Harry Potter and the philosopher's stone.|/authors/OL3218098A|null        |null             |null             |/type/datetime|2009-01-08T01:49:06.908292|null         |null              |null                         |null                 |null                    |/languages/spa|/type/datetime    |2009-12-15T08:07:28.908422|null       |null     |null                   |null                   |null                   |null                     |null                   |null                  |null                   |/type/edition|/works/OL9134393W|null              |null                 |null                  |null          |\n",
            "|null           |null|null      |J.K. Rowling ; [traducción, Alicia Dellepiane].|null         |null          |null  |null      |{\"type\":\"/type/text\",\"value\":\"Rescued from the outrageous neglect of his aunt and uncle, a young boy with a great destiny proves his worth while attending Hogwarts School for Wizards and Witches\"}|null               |null        |null        |1a ed       |null              |null          |null      |null       |Juvenile fiction |null     |null        |8478885544|null   |null        |null           |/books/OL22858290M|2              |null              |null|[\"NBuC\"]|null|{\"type\":\"/type/text\",\"value\":\"Translation of: Harry Potter and the philosopher's stone\\n\\nCecilia Bard Multicultural Library for Peace\"}|254            |null |46972597   |null        |Cecilia Bard Multicultural Library for Peace|254 p. ;  |null         |null  |null               |null           |sp             |2000        |Barcelona     |Emecé Editores       |null        |2       |Serie Harry Potter -- 1|null          |null          |null         |null          |null        |null         |Hogwarts School of Witchcraft and Wizardry (Imaginary place) -- Juvenile fiction|null    |Harry Potter y la piedra filosofal      |null        |null            |null|null|null   |null  |null      |Harry Potter and the philosopher's stone.|/authors/OL3218098A|null        |null             |null             |/type/datetime|2009-01-08T01:49:06.908292|null         |null              |null                         |null                 |null                    |/languages/spa|/type/datetime    |2009-12-15T08:07:28.908422|null       |null     |null                   |null                   |null                   |null                     |null                   |null                  |null                   |/type/edition|/works/OL9134393W|null              |null                 |null                  |null          |\n",
            "|null           |null|null      |J.K. Rowling ; [traducción, Alicia Dellepiane].|null         |null          |null  |null      |{\"type\":\"/type/text\",\"value\":\"Rescued from the outrageous neglect of his aunt and uncle, a young boy with a great destiny proves his worth while attending Hogwarts School for Wizards and Witches\"}|null               |null        |null        |1a ed       |null              |null          |null      |null       |Juvenile fiction |null     |null        |8478885544|null   |null        |null           |/books/OL22858290M|2              |null              |null|[\"NBuC\"]|null|{\"type\":\"/type/text\",\"value\":\"Translation of: Harry Potter and the philosopher's stone\\n\\nCecilia Bard Multicultural Library for Peace\"}|254            |null |46972597   |null        |Cecilia Bard Multicultural Library for Peace|254 p. ;  |null         |null  |null               |null           |sp             |2000        |Barcelona     |Emecé Editores       |null        |2       |Serie Harry Potter -- 1|null          |null          |null         |null          |null        |null         |Schools -- Juvenile fiction                                                     |null    |Harry Potter y la piedra filosofal      |null        |null            |null|null|null   |null  |null      |Harry Potter and the philosopher's stone.|/authors/OL3218098A|null        |null             |null             |/type/datetime|2009-01-08T01:49:06.908292|null         |null              |null                         |null                 |null                    |/languages/spa|/type/datetime    |2009-12-15T08:07:28.908422|null       |null     |null                   |null                   |null                   |null                     |null                   |null                  |null                   |/type/edition|/works/OL9134393W|null              |null                 |null                  |null          |\n",
            "|null           |null|null      |J.K. Rowling ; [traducción, Alicia Dellepiane].|null         |null          |null  |null      |{\"type\":\"/type/text\",\"value\":\"Rescued from the outrageous neglect of his aunt and uncle, a young boy with a great destiny proves his worth while attending Hogwarts School for Wizards and Witches\"}|null               |null        |null        |1a ed       |null              |null          |null      |null       |Juvenile fiction |null     |null        |8478885544|null   |null        |null           |/books/OL22858290M|2              |null              |null|[\"NBuC\"]|null|{\"type\":\"/type/text\",\"value\":\"Translation of: Harry Potter and the philosopher's stone\\n\\nCecilia Bard Multicultural Library for Peace\"}|254            |null |46972597   |null        |Cecilia Bard Multicultural Library for Peace|254 p. ;  |null         |null  |null               |null           |sp             |2000        |Barcelona     |Emecé Editores       |null        |2       |Serie Harry Potter -- 1|null          |null          |null         |null          |null        |null         |England -- Juvenile fiction.                                                    |null    |Harry Potter y la piedra filosofal      |null        |null            |null|null|null   |null  |null      |Harry Potter and the philosopher's stone.|/authors/OL3218098A|null        |null             |null             |/type/datetime|2009-01-08T01:49:06.908292|null         |null              |null                         |null                 |null                    |/languages/spa|/type/datetime    |2009-12-15T08:07:28.908422|null       |null     |null                   |null                   |null                   |null                     |null                   |null                  |null                   |/type/edition|/works/OL9134393W|null              |null                 |null                  |null          |\n",
            "|null           |null|null      |J.K. Rowling ; [traducción, Alicia Dellepiane].|null         |null          |null  |null      |{\"type\":\"/type/text\",\"value\":\"Rescued from the outrageous neglect of his aunt and uncle, a young boy with a great destiny proves his worth while attending Hogwarts School for Wizards and Witches\"}|null               |null        |null        |1a ed       |null              |null          |null      |null       |Juvenile fiction.|null     |null        |8478885544|null   |null        |null           |/books/OL22858290M|2              |null              |null|[\"NBuC\"]|null|{\"type\":\"/type/text\",\"value\":\"Translation of: Harry Potter and the philosopher's stone\\n\\nCecilia Bard Multicultural Library for Peace\"}|254            |null |46972597   |null        |Cecilia Bard Multicultural Library for Peace|254 p. ;  |null         |null  |null               |null           |sp             |2000        |Barcelona     |Emecé Editores       |null        |2       |Serie Harry Potter -- 1|null          |null          |null         |null          |null        |null         |Potter, Harry (Fictitious character) -- Juvenile fiction                        |null    |Harry Potter y la piedra filosofal      |null        |null            |null|null|null   |null  |null      |Harry Potter and the philosopher's stone.|/authors/OL3218098A|null        |null             |null             |/type/datetime|2009-01-08T01:49:06.908292|null         |null              |null                         |null                 |null                    |/languages/spa|/type/datetime    |2009-12-15T08:07:28.908422|null       |null     |null                   |null                   |null                   |null                     |null                   |null                  |null                   |/type/edition|/works/OL9134393W|null              |null                 |null                  |null          |\n",
            "|null           |null|null      |J.K. Rowling ; [traducción, Alicia Dellepiane].|null         |null          |null  |null      |{\"type\":\"/type/text\",\"value\":\"Rescued from the outrageous neglect of his aunt and uncle, a young boy with a great destiny proves his worth while attending Hogwarts School for Wizards and Witches\"}|null               |null        |null        |1a ed       |null              |null          |null      |null       |Juvenile fiction.|null     |null        |8478885544|null   |null        |null           |/books/OL22858290M|2              |null              |null|[\"NBuC\"]|null|{\"type\":\"/type/text\",\"value\":\"Translation of: Harry Potter and the philosopher's stone\\n\\nCecilia Bard Multicultural Library for Peace\"}|254            |null |46972597   |null        |Cecilia Bard Multicultural Library for Peace|254 p. ;  |null         |null  |null               |null           |sp             |2000        |Barcelona     |Emecé Editores       |null        |2       |Serie Harry Potter -- 1|null          |null          |null         |null          |null        |null         |Wizards -- Juvenile fiction                                                     |null    |Harry Potter y la piedra filosofal      |null        |null            |null|null|null   |null  |null      |Harry Potter and the philosopher's stone.|/authors/OL3218098A|null        |null             |null             |/type/datetime|2009-01-08T01:49:06.908292|null         |null              |null                         |null                 |null                    |/languages/spa|/type/datetime    |2009-12-15T08:07:28.908422|null       |null     |null                   |null                   |null                   |null                     |null                   |null                  |null                   |/type/edition|/works/OL9134393W|null              |null                 |null                  |null          |\n",
            "|null           |null|null      |J.K. Rowling ; [traducción, Alicia Dellepiane].|null         |null          |null  |null      |{\"type\":\"/type/text\",\"value\":\"Rescued from the outrageous neglect of his aunt and uncle, a young boy with a great destiny proves his worth while attending Hogwarts School for Wizards and Witches\"}|null               |null        |null        |1a ed       |null              |null          |null      |null       |Juvenile fiction.|null     |null        |8478885544|null   |null        |null           |/books/OL22858290M|2              |null              |null|[\"NBuC\"]|null|{\"type\":\"/type/text\",\"value\":\"Translation of: Harry Potter and the philosopher's stone\\n\\nCecilia Bard Multicultural Library for Peace\"}|254            |null |46972597   |null        |Cecilia Bard Multicultural Library for Peace|254 p. ;  |null         |null  |null               |null           |sp             |2000        |Barcelona     |Emecé Editores       |null        |2       |Serie Harry Potter -- 1|null          |null          |null         |null          |null        |null         |Hogwarts School of Witchcraft and Wizardry (Imaginary place) -- Juvenile fiction|null    |Harry Potter y la piedra filosofal      |null        |null            |null|null|null   |null  |null      |Harry Potter and the philosopher's stone.|/authors/OL3218098A|null        |null             |null             |/type/datetime|2009-01-08T01:49:06.908292|null         |null              |null                         |null                 |null                    |/languages/spa|/type/datetime    |2009-12-15T08:07:28.908422|null       |null     |null                   |null                   |null                   |null                     |null                   |null                  |null                   |/type/edition|/works/OL9134393W|null              |null                 |null                  |null          |\n",
            "+---------------+----+----------+-----------------------------------------------+-------------+--------------+------+----------+----------------------------------------------------------------------------------------------------------------------------------------------------------------------------------------------------+-------------------+------------+------------+------------+------------------+--------------+----------+-----------+-----------------+---------+------------+----------+-------+------------+---------------+------------------+---------------+------------------+----+--------+----+----------------------------------------------------------------------------------------------------------------------------------------+---------------+-----+-----------+------------+--------------------------------------------+----------+-------------+------+-------------------+---------------+---------------+------------+--------------+---------------------+------------+--------+-----------------------+--------------+--------------+-------------+--------------+------------+-------------+--------------------------------------------------------------------------------+--------+----------------------------------------+------------+----------------+----+----+-------+------+----------+-----------------------------------------+-------------------+------------+-----------------+-----------------+--------------+--------------------------+-------------+------------------+-----------------------------+---------------------+------------------------+--------------+------------------+--------------------------+-----------+---------+-----------------------+-----------------------+-----------------------+-------------------------+-----------------------+----------------------+-----------------------+-------------+-----------------+------------------+---------------------+----------------------+--------------+\n",
            "only showing top 20 rows\n",
            "\n"
          ]
        }
      ]
    },
    {
      "cell_type": "markdown",
      "source": [
        "## Ques 2: Get the book with the most pages"
      ],
      "metadata": {
        "id": "qrKRVCFQmPPE"
      }
    },
    {
      "cell_type": "code",
      "source": [
        "max_pg = filtered_inp.agg(max(col('number_of_pages'))).head()[0]\n",
        "\n",
        "filtered_inp.where('number_of_pages={0}'.format(max_pg))\\\n",
        "            .select('title','number_of_pages')\\\n",
        "            .distinct()\\\n",
        "            .show(truncate=False)\n",
        "\n",
        "# filtered_inp.createOrReplaceTempView('filtered_inp')\n",
        "\n",
        "# spark.sql('''\n",
        "#     select distinct full_title, title, number_of_pages from filtered_inp where number_of_pages = (select max(number_of_pages) from filtered_inp)\n",
        "# ''').show(truncate=False)"
      ],
      "metadata": {
        "colab": {
          "base_uri": "https://localhost:8080/"
        },
        "id": "ZsochLmsmYlH",
        "outputId": "d1ac6dc8-c517-42a9-e884-ea9d92c5700e"
      },
      "execution_count": 10,
      "outputs": [
        {
          "output_type": "stream",
          "name": "stdout",
          "text": [
            "+-----------------------------+---------------+\n",
            "|title                        |number_of_pages|\n",
            "+-----------------------------+---------------+\n",
            "|Nihon shokuminchi kenchikuron|48418          |\n",
            "+-----------------------------+---------------+\n",
            "\n"
          ]
        }
      ]
    },
    {
      "cell_type": "markdown",
      "source": [
        "##Ques 3: Find the Top 5 authors with most written books (assuming author in first position in the array, \"key\" field and each row is a different book)"
      ],
      "metadata": {
        "id": "FI1a8eHOv9SY"
      }
    },
    {
      "cell_type": "code",
      "source": [
        "filtered_inp.withColumn('isbn_comb',coalesce('isbn_10','isbn_13'))\\\n",
        "            .where('authors_key IS NOT NULL')\\\n",
        "            .groupBy('authors_key')\\\n",
        "            .agg(count('isbn_comb').alias('cnt_isbn_comb'))\\\n",
        "            .orderBy('cnt_isbn_comb',ascending=False)\\\n",
        "            .limit(5)\\\n",
        "            .withColumn('authors_key',split(col('authors_key'),'/').getItem(2))\\\n",
        "            .show(truncate=False)"
      ],
      "metadata": {
        "colab": {
          "base_uri": "https://localhost:8080/"
        },
        "id": "wYi_vSTQXOvI",
        "outputId": "5ae338f5-4362-4d16-a2ff-b9c716d9658b"
      },
      "execution_count": 11,
      "outputs": [
        {
          "output_type": "stream",
          "name": "stdout",
          "text": [
            "+-----------+-------------+\n",
            "|authors_key|cnt_isbn_comb|\n",
            "+-----------+-------------+\n",
            "|OL6551378A |51675        |\n",
            "|OL6382015A |35400        |\n",
            "|OL1056984A |10404        |\n",
            "|OL6538270A |6432         |\n",
            "|OL2695836A |5832         |\n",
            "+-----------+-------------+\n",
            "\n"
          ]
        }
      ]
    },
    {
      "cell_type": "markdown",
      "source": [
        "## Ques 4: Find the Top 5 genres with most books"
      ],
      "metadata": {
        "id": "D0KNaWiukO40"
      }
    },
    {
      "cell_type": "code",
      "source": [
        "filtered_inp.withColumn('isbn_comb',coalesce('isbn_10','isbn_13'))\\\n",
        "            .where('genres IS NOT NULL')\\\n",
        "            .groupBy('genres')\\\n",
        "            .agg(count(col('isbn_comb')).alias('cnt_isbn_comb'))\\\n",
        "            .orderBy(col('cnt_isbn_comb'),ascending=False)\\\n",
        "            .limit(5)\\\n",
        "            .show(truncate=False)"
      ],
      "metadata": {
        "id": "6amzVtS2YqvY",
        "colab": {
          "base_uri": "https://localhost:8080/"
        },
        "outputId": "888c309f-d43a-4a3e-df57-9930f0756d62"
      },
      "execution_count": 12,
      "outputs": [
        {
          "output_type": "stream",
          "name": "stdout",
          "text": [
            "+--------------------+-------------+\n",
            "|genres              |cnt_isbn_comb|\n",
            "+--------------------+-------------+\n",
            "|Essay               |53112        |\n",
            "|Biography.          |26024        |\n",
            "|Juvenile literature.|22491        |\n",
            "|Statistics.         |17863        |\n",
            "|Census, 1996.       |17700        |\n",
            "+--------------------+-------------+\n",
            "\n"
          ]
        }
      ]
    },
    {
      "cell_type": "markdown",
      "source": [
        "## Ques 5: Get the avg. number of pages"
      ],
      "metadata": {
        "id": "wy2l7JsPkTmG"
      }
    },
    {
      "cell_type": "code",
      "source": [
        "filtered_inp.agg(round(avg('number_of_pages'),3).alias('avg_num_pages')).show(truncate=False)"
      ],
      "metadata": {
        "colab": {
          "base_uri": "https://localhost:8080/"
        },
        "id": "gVOBQ-5CkU76",
        "outputId": "0d1a8c37-b7ae-499e-dace-3bb2fb290bcb"
      },
      "execution_count": 13,
      "outputs": [
        {
          "output_type": "stream",
          "name": "stdout",
          "text": [
            "+-------------+\n",
            "|avg_num_pages|\n",
            "+-------------+\n",
            "|280.142      |\n",
            "+-------------+\n",
            "\n"
          ]
        }
      ]
    },
    {
      "cell_type": "markdown",
      "source": [
        "## Ques 6: Per publish year, get the number of authors that published at least one book"
      ],
      "metadata": {
        "id": "TBlOgDDqkzxQ"
      }
    },
    {
      "cell_type": "code",
      "source": [
        "#confirming that publish date column has clean data\n",
        "\n",
        "filtered_inp.where('length(publish_date) = 4').count()\n",
        "filtered_inp.count()"
      ],
      "metadata": {
        "colab": {
          "base_uri": "https://localhost:8080/"
        },
        "id": "4h5tJbbCnfro",
        "outputId": "43020c61-9825-44c5-c5b0-1e5f1193e165"
      },
      "execution_count": 14,
      "outputs": [
        {
          "output_type": "execute_result",
          "data": {
            "text/plain": [
              "661841"
            ]
          },
          "metadata": {},
          "execution_count": 14
        }
      ]
    },
    {
      "cell_type": "code",
      "source": [
        "filtered_inp.withColumn('isbn_comb',coalesce('isbn_10','isbn_13'))\\\n",
        "            .select(col('publish_date').cast('int'),'authors_key','isbn_comb')\\\n",
        "            .groupBy('publish_date','authors_key')\\\n",
        "            .agg(count('isbn_comb').alias('cnt_isbn_comb'))\\\n",
        "            .where('cnt_isbn_comb > 0')\\\n",
        "            .groupBy('publish_date')\\\n",
        "            .agg(count('authors_key').alias('cnt_authors'))\\\n",
        "            .show(truncate=False)"
      ],
      "metadata": {
        "colab": {
          "base_uri": "https://localhost:8080/"
        },
        "id": "9dv4x1_4kmbx",
        "outputId": "5dc6377d-a73f-40ad-d7f6-ec513fd91a84"
      },
      "execution_count": 15,
      "outputs": [
        {
          "output_type": "stream",
          "name": "stdout",
          "text": [
            "+------------+-----------+\n",
            "|publish_date|cnt_authors|\n",
            "+------------+-----------+\n",
            "|1959        |21         |\n",
            "|1990        |1250       |\n",
            "|1975        |293        |\n",
            "|1977        |271        |\n",
            "|2003        |1028       |\n",
            "|2007        |1873       |\n",
            "|1974        |267        |\n",
            "|1955        |10         |\n",
            "|2006        |920        |\n",
            "|1978        |317        |\n",
            "|1961        |22         |\n",
            "|1952        |9          |\n",
            "|1956        |15         |\n",
            "|1997        |1813       |\n",
            "|1988        |878        |\n",
            "|1994        |1811       |\n",
            "|1968        |161        |\n",
            "|1951        |13         |\n",
            "|1973        |273        |\n",
            "|1979        |401        |\n",
            "+------------+-----------+\n",
            "only showing top 20 rows\n",
            "\n"
          ]
        }
      ]
    }
  ]
}