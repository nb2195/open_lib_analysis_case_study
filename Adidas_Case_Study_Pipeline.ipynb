{
  "nbformat": 4,
  "nbformat_minor": 0,
  "metadata": {
    "colab": {
      "name": "Adidas_Case_Study_Pipeline.ipynb",
      "provenance": [],
      "collapsed_sections": [],
      "authorship_tag": "ABX9TyMp5QzFowBSW2D28BXi0PQt",
      "include_colab_link": true
    },
    "kernelspec": {
      "name": "python3",
      "display_name": "Python 3"
    },
    "language_info": {
      "name": "python"
    }
  },
  "cells": [
    {
      "cell_type": "markdown",
      "metadata": {
        "id": "view-in-github",
        "colab_type": "text"
      },
      "source": [
        "<a href=\"https://colab.research.google.com/github/nb2195/open_lib_analysis_case_study/blob/main/Adidas_Case_Study_Pipeline.ipynb\" target=\"_parent\"><img src=\"https://colab.research.google.com/assets/colab-badge.svg\" alt=\"Open In Colab\"/></a>"
      ]
    },
    {
      "cell_type": "markdown",
      "source": [
        "###The steps below is optional. The code snippet installs pyspark module on the host and mounts and external storage location."
      ],
      "metadata": {
        "id": "vVSIj1c8ftGq"
      }
    },
    {
      "cell_type": "code",
      "execution_count": null,
      "metadata": {
        "colab": {
          "base_uri": "https://localhost:8080/"
        },
        "id": "daa-SSNqCF_J",
        "outputId": "637211a6-6a76-4c13-83b3-8a7bc3e7f464"
      },
      "outputs": [
        {
          "output_type": "stream",
          "name": "stdout",
          "text": [
            "Requirement already satisfied: pyspark in /usr/local/lib/python3.7/dist-packages (3.2.1)\n",
            "Requirement already satisfied: py4j==0.10.9.3 in /usr/local/lib/python3.7/dist-packages (from pyspark) (0.10.9.3)\n",
            "Drive already mounted at /content/drive; to attempt to forcibly remount, call drive.mount(\"/content/drive\", force_remount=True).\n"
          ]
        }
      ],
      "source": [
        "!pip install pyspark\n",
        "\n",
        "from google.colab import drive\n",
        "drive.mount('/content/drive')"
      ]
    },
    {
      "cell_type": "markdown",
      "source": [
        "##Importing necessary PySpark libraries"
      ],
      "metadata": {
        "id": "Gjf8PqypDWTZ"
      }
    },
    {
      "cell_type": "code",
      "source": [
        "from pyspark.sql import SparkSession\n",
        "from pyspark.sql import types as T\n",
        "import pyspark.sql.functions as F\n",
        "from pyspark.sql.window import Window"
      ],
      "metadata": {
        "id": "D7kp3-raCOKX"
      },
      "execution_count": null,
      "outputs": []
    },
    {
      "cell_type": "markdown",
      "source": [
        "###Initializing spark session"
      ],
      "metadata": {
        "id": "tETamrbcFdfh"
      }
    },
    {
      "cell_type": "code",
      "source": [
        "spark = SparkSession.builder\\\n",
        "                    .appName('Adidas')\\\n",
        "                    .getOrCreate()"
      ],
      "metadata": {
        "id": "kqMAuh2CCRcf"
      },
      "execution_count": null,
      "outputs": []
    },
    {
      "cell_type": "code",
      "source": [
        "path = '/content/drive/MyDrive/Adidas/ol_cdump.json'\n",
        "\n",
        "inp = spark.read.option('encoding','utf-8')\\\n",
        "                .json(path)"
      ],
      "metadata": {
        "id": "qZjrtaOrEGTv"
      },
      "execution_count": null,
      "outputs": []
    },
    {
      "cell_type": "code",
      "source": [
        "# inp.printSchema()"
      ],
      "metadata": {
        "id": "2gDnOooxXv53"
      },
      "execution_count": null,
      "outputs": []
    },
    {
      "cell_type": "markdown",
      "source": [
        "###The flatten method resolves complex data types such as ArrayType and StructType in order to un-nest the columns and 'flatten' the JSON file. This enables querying on the dataset for insight generation."
      ],
      "metadata": {
        "id": "GqUgN3SwDpJL"
      }
    },
    {
      "cell_type": "code",
      "source": [
        "def flatten(df):\n",
        "    complex_fields = dict([\n",
        "        (field.name, field.dataType) \n",
        "        for field in df.schema.fields \n",
        "        if isinstance(field.dataType, T.ArrayType) or isinstance(field.dataType, T.StructType)\n",
        "    ])\n",
        "    \n",
        "    # print('complex_fields dict',complex_fields)\n",
        "\n",
        "    qualify = list(complex_fields.keys())[0] + \"_\"\n",
        "\n",
        "    while len(complex_fields) != 0:\n",
        "        col_name = list(complex_fields.keys())[0]\n",
        "        \n",
        "        if isinstance(complex_fields[col_name], T.StructType):\n",
        "            expanded = [F.col(col_name + '.' + k).alias(col_name + '_' + k) \n",
        "                        for k in [ n.name for n in  complex_fields[col_name]]\n",
        "                       ]\n",
        "            \n",
        "            df = df.select(\"*\", *expanded).drop(col_name)\n",
        "    \n",
        "        elif isinstance(complex_fields[col_name], T.ArrayType): \n",
        "            df = df.withColumn(col_name, F.explode_outer(col_name))\n",
        "      \n",
        "        complex_fields = dict([\n",
        "            (field.name, field.dataType)\n",
        "            for field in df.schema.fields\n",
        "            if isinstance(field.dataType, T.ArrayType) or isinstance(field.dataType, T.StructType)\n",
        "        ])\n",
        "        \n",
        "        \n",
        "    for df_col_name in df.columns:\n",
        "        df = df.withColumnRenamed(df_col_name, df_col_name.replace(qualify, \"\"))\n",
        "\n",
        "    return df"
      ],
      "metadata": {
        "id": "oiJ_oa3SDDUY"
      },
      "execution_count": null,
      "outputs": []
    },
    {
      "cell_type": "code",
      "source": [
        "flattened_df = flatten(inp)\n",
        "# flattened_df.printSchema()"
      ],
      "metadata": {
        "id": "DhxHSbsCEMyU"
      },
      "execution_count": null,
      "outputs": []
    },
    {
      "cell_type": "markdown",
      "source": [
        "##Cleaning the dataset by appying necessary filters - \n",
        "1. Title should not be null\n",
        "2. The Number of pages should be greater than 20\n",
        "3. The publish date should be later than 1950\n",
        "\n",
        "Fetching records which satisfy the above criteria"
      ],
      "metadata": {
        "id": "_FarEWKZGkaf"
      }
    },
    {
      "cell_type": "code",
      "source": [
        "filtered_inp = flattened_df.where('title IS NOT NULL')\\\n",
        "                           .where('number_of_pages > 20')\\\n",
        "                           .where('publish_date > 1950')"
      ],
      "metadata": {
        "id": "0voQCvOCafqb"
      },
      "execution_count": null,
      "outputs": []
    },
    {
      "cell_type": "markdown",
      "source": [
        "## Ques 1: Select all \"Harry Potter\" books\n",
        "\n",
        "The code below will fetch records where Harry Potter is properly spelled in the title column. However, we'll need to perform spell checks to make sure we are capturing records where 'Harry Potter' is incorrectly spelled. This can be acieved through Autocorrect Python package to look for strings which resemble 'Harry Potter'."
      ],
      "metadata": {
        "id": "uPNKdTGwFyga"
      }
    },
    {
      "cell_type": "code",
      "source": [
        "filtered_inp.where('upper(title) like \"%HARRY%POTTER%\" OR upper(description) like \"%HARRY%POTTER%\"')\\\n",
        "            .show(truncate=False)"
      ],
      "metadata": {
        "colab": {
          "base_uri": "https://localhost:8080/"
        },
        "id": "w8Hzqh1XlbPF",
        "outputId": "2e67a7d4-e769-4778-ebbd-c0ec2ed35fe0"
      },
      "execution_count": null,
      "outputs": [
        {
          "output_type": "execute_result",
          "data": {
            "text/plain": [
              "DataFrame[alternate_names: string, bio: string, birth_date: string, by_statement: string, contributions: string, copyright_date: string, covers: bigint, death_date: string, description: string, dewey_decimal_class: string, dewey_number: string, download_url: string, edition_name: string, first_publish_date: string, first_sentence: string, full_title: string, fuller_name: string, genres: string, ia_box_id: string, ia_loaded_id: string, isbn_10: string, isbn_13: string, isbn_invalid: string, isbn_odd_length: string, key: string, latest_revision: bigint, lc_classifications: string, lccn: string, location: string, name: string, notes: string, number_of_pages: bigint, ocaid: string, oclc_number: string, oclc_numbers: string, other_titles: string, pagination: string, personal_name: string, photos: bigint, physical_dimensions: string, physical_format: string, publish_country: string, publish_date: string, publish_places: string, publishers: string, purchase_url: string, revision: bigint, series: string, source_records: string, subject_people: string, subject_place: string, subject_places: string, subject_time: string, subject_times: string, subjects: string, subtitle: string, title: string, title_prefix: string, uri_descriptions: string, uris: string, url: string, website: string, weight: string, work_title: string, work_titles: string, authors_key: string, authors_type: string, contributors_name: string, contributors_role: string, created_type: string, created_value: string, excerpts_page: string, identifiers_amazon: string, identifiers_amazon_co_uk_asin: string, identifiers_goodreads: string, identifiers_librarything: string, languages_key: string, last_modified_type: string, last_modified_value: string, links_title: string, links_url: string, table_of_contents_class: string, table_of_contents_label: string, table_of_contents_level: bigint, table_of_contents_pagenum: string, table_of_contents_title: string, table_of_contents_type: string, table_of_contents_value: string, type_key: string, works_key: string, authors_author_key: string, excerpts_excerpt_type: string, excerpts_excerpt_value: string, links_type_key: string]"
            ]
          },
          "metadata": {},
          "execution_count": 11
        }
      ]
    },
    {
      "cell_type": "markdown",
      "source": [
        "## Ques 2: Get the book with the most pages"
      ],
      "metadata": {
        "id": "qrKRVCFQmPPE"
      }
    },
    {
      "cell_type": "code",
      "source": [
        "max_pg = filtered_inp.agg(max('number_of_pages').alias('max_num_pages')).head()[0]\n",
        "\n",
        "filtered_inp.where('number_of_pages={0}'.format(max_pg))\\\n",
        "            .select('full_title','title','number_of_pages')\\\n",
        "            .distinct()\n",
        "\n",
        "# filtered_inp.createOrReplaceTempView('filtered_inp')\n",
        "\n",
        "# spark.sql('''\n",
        "#     select distinct full_title, title, number_of_pages from filtered_inp where number_of_pages = (select max(number_of_pages) from filtered_inp)\n",
        "# ''').show(truncate=False)"
      ],
      "metadata": {
        "colab": {
          "base_uri": "https://localhost:8080/"
        },
        "id": "ZsochLmsmYlH",
        "outputId": "c82f2a4d-a722-4824-a714-a1f2d56edfa3"
      },
      "execution_count": null,
      "outputs": [
        {
          "output_type": "execute_result",
          "data": {
            "text/plain": [
              "DataFrame[full_title: string, title: string, number_of_pages: bigint]"
            ]
          },
          "metadata": {},
          "execution_count": 12
        }
      ]
    },
    {
      "cell_type": "markdown",
      "source": [
        "##Ques 3: Find the Top 5 authors with most written books (assuming author in first position in the array, \"key\" field and each row is a different book)"
      ],
      "metadata": {
        "id": "FI1a8eHOv9SY"
      }
    },
    {
      "cell_type": "code",
      "source": [
        "filtered_inp.withColumn('isbn_comb',coalesce('isbn_10','isbn_13'))\\\n",
        "            .where('authors_key IS NOT NULL')\\\n",
        "            .groupBy('authors_key')\\\n",
        "            .agg(count('isbn_comb').alias('cnt_isbn_comb'))\\\n",
        "            .orderBy('cnt_isbn_comb',ascending=False)\\\n",
        "            .limit(5)\\\n",
        "            .withColumn('authors_key',split(col('authors_key'),'/').getItem(2))\\\n",
        "            .show(truncate=False)"
      ],
      "metadata": {
        "colab": {
          "base_uri": "https://localhost:8080/"
        },
        "id": "wYi_vSTQXOvI",
        "outputId": "e92a2b1a-c7b3-4bae-f275-3f6eeb5f6411"
      },
      "execution_count": null,
      "outputs": [
        {
          "output_type": "stream",
          "name": "stdout",
          "text": [
            "+-----------+-------------+\n",
            "|authors_key|cnt_isbn_comb|\n",
            "+-----------+-------------+\n",
            "|OL6551378A |51675        |\n",
            "|OL6382015A |35400        |\n",
            "|OL1056984A |10404        |\n",
            "|OL6538270A |6432         |\n",
            "|OL2695836A |5832         |\n",
            "+-----------+-------------+\n",
            "\n"
          ]
        }
      ]
    },
    {
      "cell_type": "markdown",
      "source": [
        "## Ques 4: Find the Top 5 genres with most books"
      ],
      "metadata": {
        "id": "D0KNaWiukO40"
      }
    },
    {
      "cell_type": "code",
      "source": [
        "filtered_inp.withColumn('isbn_comb',coalesce('isbn_10','isbn_13'))\\\n",
        "            .where('genres IS NOT NULL')\\\n",
        "            .groupBy('genres')\\\n",
        "            .agg(count(col('isbn_comb')).alias('cnt_isbn_comb'))\\\n",
        "            .orderBy(col('cnt_isbn_comb'),ascending=False)\\\n",
        "            .limit(5)\\\n",
        "            .show(truncate=False)"
      ],
      "metadata": {
        "id": "6amzVtS2YqvY"
      },
      "execution_count": null,
      "outputs": []
    },
    {
      "cell_type": "markdown",
      "source": [
        "## Ques 5: Get the avg. number of pages"
      ],
      "metadata": {
        "id": "wy2l7JsPkTmG"
      }
    },
    {
      "cell_type": "code",
      "source": [
        "filtered_inp.agg(round(avg('number_of_pages'),3).alias('avg_num_pages')).show(truncate=False)"
      ],
      "metadata": {
        "colab": {
          "base_uri": "https://localhost:8080/"
        },
        "id": "gVOBQ-5CkU76",
        "outputId": "414d1b05-723b-4a5a-ed9c-504a083faa17"
      },
      "execution_count": null,
      "outputs": [
        {
          "output_type": "stream",
          "name": "stdout",
          "text": [
            "+-------------+\n",
            "|avg_num_pages|\n",
            "+-------------+\n",
            "|280.142      |\n",
            "+-------------+\n",
            "\n"
          ]
        }
      ]
    },
    {
      "cell_type": "markdown",
      "source": [
        "## Ques 6: Per publish year, get the number of authors that published at least one book"
      ],
      "metadata": {
        "id": "TBlOgDDqkzxQ"
      }
    },
    {
      "cell_type": "code",
      "source": [
        "#confirming that publish date column has clean data\n",
        "\n",
        "filtered_inp.where('length(publish_date) = 4').count()\n",
        "filtered_inp.count()"
      ],
      "metadata": {
        "colab": {
          "base_uri": "https://localhost:8080/"
        },
        "id": "4h5tJbbCnfro",
        "outputId": "3972b26f-5721-4bf6-9276-03a879eeb09a"
      },
      "execution_count": null,
      "outputs": [
        {
          "output_type": "execute_result",
          "data": {
            "text/plain": [
              "661841"
            ]
          },
          "metadata": {},
          "execution_count": 58
        }
      ]
    },
    {
      "cell_type": "code",
      "source": [
        "filtered_inp.withColumn('isbn_comb',coalesce('isbn_10','isbn_13'))\\\n",
        "            .select(col('publish_date').cast('int'),'authors_key','isbn_comb')\\\n",
        "            .groupBy('publish_date','authors_key')\\\n",
        "            .agg(count('isbn_comb').alias('cnt_isbn_comb'))\\\n",
        "            .where('cnt_isbn_comb > 0')\\\n",
        "            .groupBy('publish_date')\\\n",
        "            .agg(count('authors_key').alias('cnt_authors'))\\\n",
        "            .show(truncate=False)"
      ],
      "metadata": {
        "id": "9dv4x1_4kmbx"
      },
      "execution_count": null,
      "outputs": []
    }
  ]
}